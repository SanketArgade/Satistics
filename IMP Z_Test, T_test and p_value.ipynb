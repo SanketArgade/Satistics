{
 "cells": [
  {
   "cell_type": "code",
   "execution_count": 1,
   "id": "1a090f59",
   "metadata": {},
   "outputs": [],
   "source": [
    "import scipy.stats\n",
    "from scipy.stats import ttest_1samp"
   ]
  },
  {
   "cell_type": "code",
   "execution_count": 2,
   "id": "8a10ed5e",
   "metadata": {},
   "outputs": [],
   "source": [
    "from statsmodels.stats.weightstats import ztest as ztest\n",
    "import numpy as np"
   ]
  },
  {
   "cell_type": "markdown",
   "id": "f16ee2d4",
   "metadata": {},
   "source": [
    "# | Z-test\n",
    "\n",
    "data = population ,assume mean"
   ]
  },
  {
   "cell_type": "code",
   "execution_count": 3,
   "id": "412a2e74",
   "metadata": {},
   "outputs": [
    {
     "data": {
      "text/plain": [
       "103.15"
      ]
     },
     "execution_count": 3,
     "metadata": {},
     "output_type": "execute_result"
    }
   ],
   "source": [
    "data = [88,92,94,94,96,97,97,99,99,99,105,109,109,109,110,112,112,113,114,115]\n",
    "pop_mean = np.array(data).mean()\n",
    "pop_mean"
   ]
  },
  {
   "cell_type": "code",
   "execution_count": 4,
   "id": "3d587ab7",
   "metadata": {},
   "outputs": [
    {
     "data": {
      "text/plain": [
       "(0.07915681848532667, 0.9369078906275168)"
      ]
     },
     "execution_count": 4,
     "metadata": {},
     "output_type": "execute_result"
    }
   ],
   "source": [
    "# 4th cell\n",
    "\n",
    "zscore,z_p_val= ztest(data, value = 103)#<---200 is a assume value check whether it is near to population_mean or not(103.15)\n",
    "zscore, z_p_val"
   ]
  },
  {
   "cell_type": "code",
   "execution_count": 5,
   "id": "e03e5025",
   "metadata": {},
   "outputs": [
    {
     "name": "stdout",
     "output_type": "stream",
     "text": [
      "Accept NULL no diff\n"
     ]
    }
   ],
   "source": [
    "if z_p_val<=0.05:\n",
    "    print(\"Reject NULL: Assume mean value 200  is differnt than the population mean\" )\n",
    "else:\n",
    "    print(\"Accept NULL no diff\")"
   ]
  },
  {
   "cell_type": "code",
   "execution_count": 6,
   "id": "4339597f",
   "metadata": {},
   "outputs": [
    {
     "data": {
      "text/plain": [
       "1.0"
      ]
     },
     "execution_count": 6,
     "metadata": {},
     "output_type": "execute_result"
    }
   ],
   "source": [
    "zscore,p_val= ztest(data, value = pop_mean)\n",
    "p_val"
   ]
  },
  {
   "cell_type": "code",
   "execution_count": 7,
   "id": "6a467b2e",
   "metadata": {},
   "outputs": [
    {
     "name": "stdout",
     "output_type": "stream",
     "text": [
      "Accept NULL no diff\n"
     ]
    }
   ],
   "source": [
    "if p_val<=0.05:\n",
    "    print(\"Reject NULL   diff\")\n",
    "else:\n",
    "    print(\"Accept NULL no diff\")"
   ]
  },
  {
   "cell_type": "markdown",
   "id": "f850bb10",
   "metadata": {},
   "source": [
    "## p_value is greater than 0.05 hence accept NULL hypothesis (there is NO diff. between our assume value and actual population mean value)"
   ]
  },
  {
   "cell_type": "markdown",
   "id": "7772107a",
   "metadata": {},
   "source": [
    "# | T-test\n",
    "\n",
    "data = sample, assume mean"
   ]
  },
  {
   "cell_type": "code",
   "execution_count": 8,
   "id": "eb304d4e",
   "metadata": {},
   "outputs": [
    {
     "name": "stdout",
     "output_type": "stream",
     "text": [
      "Actual mean value:  30.34375\n"
     ]
    }
   ],
   "source": [
    "## t -test\n",
    "\n",
    "ages =  [ 10, 20, 35, 50, 28, 40 ,55, 18, 16, 55, 30, 25, 43, 18, 30, 28, 14, 24, 16, 17, 32, 35, 26, 27, 65, 18, 43, 23, 21, 20, 19, 70]\n",
    "population_mean = np.array(ages).mean()\n",
    "print(\"Actual mean value: \",population_mean)"
   ]
  },
  {
   "cell_type": "code",
   "execution_count": 9,
   "id": "6a126c90",
   "metadata": {},
   "outputs": [
    {
     "data": {
      "text/plain": [
       "array([16, 55, 30, 35, 10, 55, 30, 26, 35, 30])"
      ]
     },
     "execution_count": 9,
     "metadata": {},
     "output_type": "execute_result"
    }
   ],
   "source": [
    "sample_size = 10                             #<-- 10 number of values\n",
    "sample = np.random.choice(ages, sample_size) \n",
    "sample"
   ]
  },
  {
   "cell_type": "code",
   "execution_count": 10,
   "id": "3c409a28",
   "metadata": {
    "scrolled": true
   },
   "outputs": [
    {
     "data": {
      "text/plain": [
       "0.20615798720529208"
      ]
     },
     "execution_count": 10,
     "metadata": {},
     "output_type": "execute_result"
    }
   ],
   "source": [
    "_,p=ttest_1samp(sample,  26)         #<--- 35 is a assume value check whether it is near to population_mean or not\n",
    "p#<<<--- T-test"
   ]
  },
  {
   "cell_type": "code",
   "execution_count": 11,
   "id": "439f7991",
   "metadata": {},
   "outputs": [
    {
     "name": "stdout",
     "output_type": "stream",
     "text": [
      "Accept NULL no diff\n"
     ]
    }
   ],
   "source": [
    "if p<=0.05:\n",
    "    print(\"Reject NULL   diff\")\n",
    "else:\n",
    "    print(\"Accept NULL no diff\")"
   ]
  },
  {
   "cell_type": "markdown",
   "id": "37085bc2",
   "metadata": {},
   "source": [
    "## p value is less than 0.05 hence reject NULL hypothesis(there is differnce)"
   ]
  },
  {
   "cell_type": "code",
   "execution_count": 13,
   "id": "6b016fb9",
   "metadata": {},
   "outputs": [
    {
     "data": {
      "text/plain": [
       "0.692861545158742"
      ]
     },
     "execution_count": 13,
     "metadata": {},
     "output_type": "execute_result"
    }
   ],
   "source": [
    "_,P_value = ttest_1samp(sample, population_mean)  #<---- exact same value population_mean\n",
    "P_value"
   ]
  },
  {
   "cell_type": "code",
   "execution_count": 15,
   "id": "ed05fa3a",
   "metadata": {},
   "outputs": [
    {
     "name": "stdout",
     "output_type": "stream",
     "text": [
      "Accept NULL no diff\n"
     ]
    }
   ],
   "source": [
    "if P_value<=0.05:\n",
    "    print(\"Reject NULL   diff\")\n",
    "else:\n",
    "    print(\"Accept NULL no diff\")"
   ]
  },
  {
   "cell_type": "markdown",
   "id": "724f487a",
   "metadata": {},
   "source": [
    "## p_value is greater than 0.05 hence accept NULL hypothesis (there is NO diff. between our assume value and actual population mean value)"
   ]
  },
  {
   "cell_type": "code",
   "execution_count": 16,
   "id": "f076665f",
   "metadata": {},
   "outputs": [
    {
     "data": {
      "text/plain": [
       "Ttest_1sampResult(statistic=1.3625002584520989, pvalue=0.20615798720529208)"
      ]
     },
     "execution_count": 16,
     "metadata": {},
     "output_type": "execute_result"
    }
   ],
   "source": [
    "ttest_1samp(sample, 26)"
   ]
  },
  {
   "cell_type": "markdown",
   "id": "776d5624",
   "metadata": {},
   "source": [
    "# 2nd example\n",
    "\n",
    "ages of the college students (population)"
   ]
  },
  {
   "cell_type": "markdown",
   "id": "73916e50",
   "metadata": {},
   "source": [
    "1) class students mean of all the ages"
   ]
  },
  {
   "cell_type": "code",
   "execution_count": 17,
   "id": "bb7f77a1",
   "metadata": {},
   "outputs": [],
   "source": [
    "import numpy as np\n",
    "import pandas as pd\n",
    "import scipy.stats as stats\n",
    "import math"
   ]
  },
  {
   "cell_type": "code",
   "execution_count": 18,
   "id": "05f9140a",
   "metadata": {},
   "outputs": [],
   "source": [
    "np.random.seed(6)\n",
    "school_ages = stats.poisson.rvs(loc=18, mu=35, size=1500)\n",
    "classA_ages = stats.poisson.rvs(loc=18, mu=30, size=60)"
   ]
  },
  {
   "cell_type": "code",
   "execution_count": 19,
   "id": "b942f7c7",
   "metadata": {},
   "outputs": [
    {
     "data": {
      "text/plain": [
       "array([62, 59, 44, ..., 45, 52, 50])"
      ]
     },
     "execution_count": 19,
     "metadata": {},
     "output_type": "execute_result"
    }
   ],
   "source": [
    "school_ages"
   ]
  },
  {
   "cell_type": "code",
   "execution_count": 20,
   "id": "1179516a",
   "metadata": {},
   "outputs": [
    {
     "data": {
      "text/plain": [
       "array([52, 46, 40, 40, 47, 50, 51, 45, 44, 52, 46, 53, 43, 44, 51, 50, 54,\n",
       "       42, 54, 45, 61, 53, 49, 46, 47, 41, 45, 51, 43, 45, 48, 50, 40, 52,\n",
       "       44, 55, 54, 40, 45, 46, 54, 42, 46, 35, 51, 51, 46, 48, 47, 35, 52,\n",
       "       52, 39, 44, 48, 40, 42, 46, 47, 45])"
      ]
     },
     "execution_count": 20,
     "metadata": {},
     "output_type": "execute_result"
    }
   ],
   "source": [
    "classA_ages "
   ]
  },
  {
   "cell_type": "code",
   "execution_count": 21,
   "id": "0a897753",
   "metadata": {},
   "outputs": [
    {
     "data": {
      "text/plain": [
       "46.9"
      ]
     },
     "execution_count": 21,
     "metadata": {},
     "output_type": "execute_result"
    }
   ],
   "source": [
    "classA_ages.mean()"
   ]
  },
  {
   "cell_type": "code",
   "execution_count": 22,
   "id": "b7642167",
   "metadata": {},
   "outputs": [
    {
     "data": {
      "text/plain": [
       "1.139027071016194e-13"
      ]
     },
     "execution_count": 22,
     "metadata": {},
     "output_type": "execute_result"
    }
   ],
   "source": [
    "_,p_value = ttest_1samp(classA_ages, school_ages.mean())\n",
    "p_value"
   ]
  },
  {
   "cell_type": "code",
   "execution_count": 23,
   "id": "65b36bec",
   "metadata": {},
   "outputs": [
    {
     "data": {
      "text/plain": [
       "53.303333333333335"
      ]
     },
     "execution_count": 23,
     "metadata": {},
     "output_type": "execute_result"
    }
   ],
   "source": [
    "school_ages.mean()"
   ]
  },
  {
   "cell_type": "code",
   "execution_count": 24,
   "id": "e9fda844",
   "metadata": {},
   "outputs": [
    {
     "name": "stdout",
     "output_type": "stream",
     "text": [
      "Reject H0\n"
     ]
    }
   ],
   "source": [
    "if p_value<=0.05:\n",
    "    print(\"Reject H0\")\n",
    "else:\n",
    "    print(\"Accept H0\")"
   ]
  },
  {
   "cell_type": "code",
   "execution_count": null,
   "id": "5c6de75a",
   "metadata": {},
   "outputs": [],
   "source": []
  }
 ],
 "metadata": {
  "kernelspec": {
   "display_name": "Python 3 (ipykernel)",
   "language": "python",
   "name": "python3"
  },
  "language_info": {
   "codemirror_mode": {
    "name": "ipython",
    "version": 3
   },
   "file_extension": ".py",
   "mimetype": "text/x-python",
   "name": "python",
   "nbconvert_exporter": "python",
   "pygments_lexer": "ipython3",
   "version": "3.10.0"
  }
 },
 "nbformat": 4,
 "nbformat_minor": 5
}
